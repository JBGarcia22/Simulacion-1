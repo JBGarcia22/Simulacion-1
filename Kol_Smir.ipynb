{
  "nbformat": 4,
  "nbformat_minor": 0,
  "metadata": {
    "colab": {
      "provenance": [],
      "authorship_tag": "ABX9TyOG5Ks4bgym06xpQwM/hhCV",
      "include_colab_link": true
    },
    "kernelspec": {
      "name": "python3",
      "display_name": "Python 3"
    },
    "language_info": {
      "name": "python"
    }
  },
  "cells": [
    {
      "cell_type": "markdown",
      "metadata": {
        "id": "view-in-github",
        "colab_type": "text"
      },
      "source": [
        "<a href=\"https://colab.research.google.com/github/JBGarcia22/Simulacion-1/blob/main/Kol_Smir.ipynb\" target=\"_parent\"><img src=\"https://colab.research.google.com/assets/colab-badge.svg\" alt=\"Open In Colab\"/></a>"
      ]
    },
    {
      "cell_type": "markdown",
      "source": [
        "## Numeros Aleatorios\n",
        "# Prueba de Kolmogorov - Smirnov"
      ],
      "metadata": {
        "id": "jlydd4ltM5Y1"
      }
    },
    {
      "cell_type": "code",
      "execution_count": 41,
      "metadata": {
        "colab": {
          "base_uri": "https://localhost:8080/"
        },
        "id": "ePiA5VMoM0zM",
        "outputId": "d6f46193-fa19-4b76-97c7-1e4bbee2c0ea"
      },
      "outputs": [
        {
          "output_type": "stream",
          "name": "stdout",
          "text": [
            "D_max:  0.16900000000000004\n",
            "D_min:  0.129\n",
            "D:  0.16900000000000004\n",
            "K:  0.026617304581117263\n",
            "Se rechaza la hipotesis nula\n"
          ]
        }
      ],
      "source": [
        "import pandas as pd\n",
        "import numpy as np\n",
        "from scipy.stats import ksone\n",
        "\n",
        "\n",
        "#obtencion de los numeros aleatorios\n",
        "#datos = pd.read_excel(\"datos.xlsx\", header=None)\n",
        "#v = datos.values.ravel(order = \"F\")\n",
        "v = [\n",
        "    0.048, 0.591, 0.478, 0.166, 0.932,\n",
        "    0.926, 0.007, 0.551, 0.362, 0.533,\n",
        "    0.368, 0.437, 0.178, 0.411, 0.545,\n",
        "    0.787, 0.594, 0.086, 0.951, 0.772,\n",
        "    0.298, 0.199, 0.157, 0.401, 0.631\n",
        "]\n",
        "v.sort()\n",
        "\n",
        "#Calculo de los estadisticos\n",
        "D_max = 0\n",
        "for i in range(len(v)):\n",
        "  if D_max < abs((i+1)/len(v) - v[i]):\n",
        "      D_max = abs((i+1)/len(v) - v[i])\n",
        "\n",
        "D_min = 0\n",
        "for i in range(len(v)):\n",
        "  if D_min < abs(v[i] - i/len(v)):\n",
        "      D_min = abs(v[i] - i/len(v))\n",
        "\n",
        "print(\"D_max: \", D_max)\n",
        "print(\"D_min: \", D_min)\n",
        "\n",
        "D = max(D_max, D_min)\n",
        "print(\"D: \", D)\n",
        "\n",
        "K = ksone.ppf(.95, len(v))\n",
        "print(\"K: \", K)\n",
        "#Prueba de hipotesis\n",
        "if K > D:\n",
        "  print(\"No se rechaza la hipotesis nula\")\n",
        "else:\n",
        "  print(\"Se rechaza la hipotesis nula\")"
      ]
    }
  ]
}