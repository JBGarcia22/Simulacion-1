{
 "cells": [
  {
   "cell_type": "markdown",
   "id": "a93e1a65",
   "metadata": {},
   "source": [
    "## Método de la transformada inversa  \n",
    "Generación de números (pseudo)aleatorios con una distribución de probabilidad especifica"
   ]
  },
  {
   "cell_type": "markdown",
   "id": "461c87ce",
   "metadata": {},
   "source": [
    "### Distribución Triangular"
   ]
  },
  {
   "cell_type": "markdown",
   "id": "2675041a",
   "metadata": {},
   "source": [
    "$$\n",
    "    f(x;a = 1 , b = 3, c = 5) = \n",
    "    \\begin{cases}\n",
    "        \\frac{(x-1)}{4} \\ ;\\quad 1 \\leq x < 3\\\\\n",
    "        \\frac{(5-x)}{4} \\ ;\\quad 3 \\leq x \\leq 5\n",
    "    \\end{cases} \n",
    "$$\n",
    "\n",
    "\n",
    "$$\n",
    "    \\operatorname{E}(x) = \\frac{a + b + c}{3} = \\frac{1 + 5 + 3}{3} = \\frac{9}{3} = 3\n",
    "$$\n",
    "\n",
    "$$\n",
    "    \\operatorname{Var}(x) = \\frac{a^2 + b^2 + c^2 - ab - ac - bc}{18} = \\frac{1 + 25 + 9 - 5 - 3 - 15}{18} = \\frac{2}{3}\n",
    "$$"
   ]
  },
  {
   "cell_type": "markdown",
   "id": "68c23126",
   "metadata": {},
   "source": [
    "$$\n",
    "    F(x) =\n",
    "    \\begin{cases}\n",
    "        \\frac{(x-1)^2}{8} \\ ; \\quad 1 \\leq x < 3\\\\\n",
    "        1 - \\frac{(5-x)^2}{8} \\ ;\\quad 3 \\leq x \\leq 5\n",
    "    \\end{cases}\n",
    "    \\implies\n",
    "    F^{-1}(y) = \n",
    "    \\begin{cases}\n",
    "        1 + \\sqrt{8y} \\ ; \\quad 0 \\leq y < \\frac{1}{2}\\\\\n",
    "        5 - \\sqrt{8(1-y)} \\ ; \\quad \\frac{1}{2} \\leq y \\leq 1\\\\\n",
    "    \\end{cases}\n",
    "$$"
   ]
  },
  {
   "cell_type": "code",
   "execution_count": 1,
   "id": "19a8d013",
   "metadata": {},
   "outputs": [
    {
     "data": {
      "image/png": "[encoded data removed]",
      "text/plain": [
       "<Figure size 640x480 with 1 Axes>"
      ]
     },
     "metadata": {},
     "output_type": "display_data"
    },
    {
     "name": "stdout",
     "output_type": "stream",
     "text": [
      "Valor esperado: 3.0009563466286218\n",
      "Valor esperado real: 3\n",
      "Varianza: 0.6647482161434546\n",
      "Varianza real: 0.6666666666666666\n"
     ]
    }
   ],
   "source": [
    "from random import random\n",
    "import numpy as np\n",
    "import matplotlib.pyplot as plt\n",
    "\n",
    "#Definimos una función que generara una serie de números aleatorios con una distribución triangular\n",
    "def Triangle(a = 0, b = .5, c = 1, n = 10000):\n",
    "    x = []\n",
    "\n",
    "    for i in range(n):\n",
    "        y = random()\n",
    "\n",
    "        #Se aplica la función inversa de la distribución triangular\n",
    "        if (y <= (b-a)/(c-a)): #Si los valores aleatorios generados son menores o iguales al area que hay entre a y b\n",
    "            x.append(np.sqrt((c-a)*(b-a)*y)+a)\n",
    "        elif (y > (b-a)/(c-a)): #Si los valores aleatorios generados son mayores al area que hay entre b y c\n",
    "            x.append(c - np.sqrt((1-y)*(c-a)*(c-b)))\n",
    "        else:\n",
    "            x.append(0)\n",
    "    return x\n",
    "\n",
    "#Se generan n valores aleatorios con la distribución triangular\n",
    "#Y se gráfica un histograma con los resultados, lo que vendría a ser una gráfica de su distribución\n",
    "rand_values = Triangle(1,3,5,50000)\n",
    "plot = plt.hist(rand_values, bins = 100)\n",
    "plt.title(\"Distribución Triangular\")\n",
    "plt.show()\n",
    "\n",
    "#Calculamos la media y varianza de los valores generados\n",
    "print(\"Valor esperado:\", np.mean(rand_values))\n",
    "print(\"Valor esperado real: 3\")\n",
    "print(\"Varianza:\", np.var(rand_values))\n",
    "print(\"Varianza real:\", 2/3)"
   ]
  }
 ],
 "metadata": {
  "kernelspec": {
   "display_name": "Python 3",
   "language": "python",
   "name": "python3"
  },
  "language_info": {
   "codemirror_mode": {
    "name": "ipython",
    "version": 3
   },
   "file_extension": ".py",
   "mimetype": "text/x-python",
   "name": "python",
   "nbconvert_exporter": "python",
   "pygments_lexer": "ipython3",
   "version": "3.12.9"
  }
 },
 "nbformat": 4,
 "nbformat_minor": 5
}
