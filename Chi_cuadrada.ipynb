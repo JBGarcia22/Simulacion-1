{
  "nbformat": 4,
  "nbformat_minor": 0,
  "metadata": {
    "colab": {
      "provenance": [],
      "mount_file_id": "1X6CtsGVGZOe02WoQyZ7VtgZj3NscFJrI",
      "authorship_tag": "ABX9TyNKHExRm27BIPGzkjlsqXHR",
      "include_colab_link": true
    },
    "kernelspec": {
      "name": "python3",
      "display_name": "Python 3"
    },
    "language_info": {
      "name": "python"
    }
  },
  "cells": [
    {
      "cell_type": "markdown",
      "metadata": {
        "id": "view-in-github",
        "colab_type": "text"
      },
      "source": [
        "<a href=\"https://colab.research.google.com/github/JBGarcia22/Simulacion-1/blob/main/Chi_cuadrada.ipynb\" target=\"_parent\"><img src=\"https://colab.research.google.com/assets/colab-badge.svg\" alt=\"Open In Colab\"/></a>"
      ]
    },
    {
      "cell_type": "markdown",
      "source": [
        "# Numeros Aleatorios"
      ],
      "metadata": {
        "id": "pLeIh8tpf1N1"
      }
    },
    {
      "cell_type": "markdown",
      "source": [
        "## Prueba de uniformidad\n",
        "### Prueba de Chi-cuadrada"
      ],
      "metadata": {
        "id": "pqiVjnWZgTTN"
      }
    },
    {
      "cell_type": "code",
      "source": [
        "import pandas as pd\n",
        "import numpy as np\n",
        "from scipy.stats import chi2\n",
        "\n",
        "#obtencion de los numeros aleatorios\n",
        "#datos = pd.read_excel(\"datos.xlsx\", header=None)\n",
        "#v = datos.values.ravel(order = \"F\")\n",
        "v = [\n",
        "    0.048, 0.591, 0.478, 0.166, 0.932,\n",
        "    0.926, 0.007, 0.551, 0.362, 0.533,\n",
        "    0.368, 0.437, 0.178, 0.411, 0.545,\n",
        "    0.787, 0.594, 0.086, 0.951, 0.772,\n",
        "    0.298, 0.199, 0.157, 0.401, 0.631\n",
        "]\n",
        "\n",
        "#Numero de clases y calculo de las frecuencias\n",
        "n = int(input(\"Numero de clases: \"))\n",
        "f_ob = [0]*n\n",
        "for i in range(n):\n",
        "  for x in v:\n",
        "    if i/n <= x < (i+1)/n:\n",
        "      f_ob[i] = f_ob[i] + 1\n",
        "\n",
        "#calculo del estadistico\n",
        "chi = 0\n",
        "f_e = len(v)/n\n",
        "for i in range(n):\n",
        "  chi += ((f_ob[i] - f_e)**2)/f_e\n",
        "\n",
        "#prueba de hipotesis\n",
        "print(\"Chi = \", chi, \"\\nChi_(a,k-1) = \", chi2.ppf(0.95, n-1))\n",
        "\n",
        "if(chi2.ppf(0.95, n-1) > chi):\n",
        "  print(\"No se rechaza la hipotesis nula\")\n",
        "else:\n",
        "  print(\"Se rechaza la hipotesis nula\")\n",
        "\n"
      ],
      "metadata": {
        "id": "aMsohJ5bgbCU",
        "colab": {
          "base_uri": "https://localhost:8080/"
        },
        "outputId": "64764917-87e0-4fbf-c8ce-bd22061f9a45"
      },
      "execution_count": 28,
      "outputs": [
        {
          "output_type": "stream",
          "name": "stdout",
          "text": [
            "Numero de clases: 10\n",
            "Chi =  9.0 \n",
            "Chi_(a,k-1) =  16.918977604620448\n",
            "No se rechaza la hipotesis nula\n"
          ]
        }
      ]
    }
  ]
}