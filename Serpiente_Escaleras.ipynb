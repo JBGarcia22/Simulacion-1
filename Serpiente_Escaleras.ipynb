{
 "cells": [
  {
   "cell_type": "markdown",
   "metadata": {},
   "source": [
    "## Simulacion del juego Serpientes y Escaleras\n",
    "Cual es el valor esperado de tiradas con el que un jugador podria terminar el juego?\n",
    "\n",
    "Las variables que tomaremos en cuenta seran la posicion del jugador en el tablero durante una partida, el numero de tiradas que le toma completar el juego y como variable aleatoria la tirada del dado"
   ]
  },
  {
   "cell_type": "markdown",
   "metadata": {},
   "source": [
    "#### Simulacion Experiemtal"
   ]
  },
  {
   "cell_type": "code",
   "execution_count": 60,
   "metadata": {},
   "outputs": [],
   "source": [
    "import random as rd\n",
    "import matplotlib.pyplot as plt\n",
    "import numpy as np"
   ]
  },
  {
   "cell_type": "markdown",
   "metadata": {},
   "source": [
    "Definimos una funcion que simulara una tirada en el juego"
   ]
  },
  {
   "cell_type": "code",
   "execution_count": 61,
   "metadata": {},
   "outputs": [],
   "source": [
    "def juego (posicion = 0):\n",
    "    tirada = rd.randint(1,6)\n",
    "    #print(\"Tirada: \", tirada)\n",
    "    if posicion + tirada >= 20:\n",
    "        return 20\n",
    "    else:\n",
    "        match posicion + tirada:\n",
    "            case 3:\n",
    "                return 11\n",
    "            case 15:\n",
    "                return 19\n",
    "            case 13:\n",
    "                return 4\n",
    "            case 17:\n",
    "                return 10\n",
    "            case _:\n",
    "                return posicion + tirada"
   ]
  },
  {
   "cell_type": "code",
   "execution_count": 62,
   "metadata": {},
   "outputs": [],
   "source": [
    "def partida ():\n",
    "    posicion = 0\n",
    "    tiradas = 0\n",
    "    while posicion < 20:\n",
    "        tiradas += 1\n",
    "        posicion = juego(posicion)\n",
    "        #print(\"Posicion: \", posicion)\n",
    "    return tiradas\n"
   ]
  },
  {
   "cell_type": "code",
   "execution_count": 63,
   "metadata": {},
   "outputs": [],
   "source": [
    "def experimento (n = 1000):\n",
    "    total_tiradas = 0\n",
    "    for i in range(n):\n",
    "        total_tiradas += partida()\n",
    "    return total_tiradas\n"
   ]
  },
  {
   "cell_type": "code",
   "execution_count": null,
   "metadata": {},
   "outputs": [
    {
     "name": "stdout",
     "output_type": "stream",
     "text": [
      "Tiradas promedio:  7.0251\n"
     ]
    }
   ],
   "source": [
    "for i in range(10000):\n",
    "    media = experimento(i)/i \n",
    "    "
   ]
  }
 ],
 "metadata": {
  "kernelspec": {
   "display_name": "Python 3",
   "language": "python",
   "name": "python3"
  },
  "language_info": {
   "codemirror_mode": {
    "name": "ipython",
    "version": 3
   },
   "file_extension": ".py",
   "mimetype": "text/x-python",
   "name": "python",
   "nbconvert_exporter": "python",
   "pygments_lexer": "ipython3",
   "version": "3.12.9"
  }
 },
 "nbformat": 4,
 "nbformat_minor": 2
}
