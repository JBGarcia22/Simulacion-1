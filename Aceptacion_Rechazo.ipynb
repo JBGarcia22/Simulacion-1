{
 "cells": [
  {
   "cell_type": "markdown",
   "id": "cc56a365",
   "metadata": {},
   "source": [
    "# Método de aceptación y rechazo"
   ]
  },
  {
   "cell_type": "code",
   "execution_count": null,
   "id": "6941d163",
   "metadata": {},
   "outputs": [
    {
     "name": "stdout",
     "output_type": "stream",
     "text": [
      "Número de valores generados: 50000\n",
      "Número de iteraciones: 99804\n",
      "Razón entre valores generados y aceptados: 0.5009819245721614\n"
     ]
    },
    {
     "data": {
      "image/png": "[encoded data removed]",
      "text/plain": [
       "<Figure size 640x480 with 1 Axes>"
      ]
     },
     "metadata": {},
     "output_type": "display_data"
    },
    {
     "name": "stdout",
     "output_type": "stream",
     "text": [
      "Valor esperado: 3.0003052698242345\n",
      "Valor esperado real: 3\n",
      "Varianza: 0.6667757435284352\n",
      "Varianza real: 0.6666666666666666\n"
     ]
    }
   ],
   "source": [
    "from random import random as rnd\n",
    "import numpy as np\n",
    "import matplotlib.pyplot as plt\n",
    "\n",
    "\n",
    "#Distribución triangular:\n",
    "def triangle(x, a, b, c):\n",
    "     if (a <= x < b):\n",
    "          return (2*(x - a))/((c-a)*(b-a))\n",
    "     elif (b <= x <= c):\n",
    "          return(2*(c - x))/((c-a)*(c-b))\n",
    "     else: \n",
    "          return 0\n",
    "\n",
    "#Aceptacion y rechazo:\n",
    "#Genera n números aleatorios con la distribución triangular con parámetros a=1, b=3 y c=5\n",
    "def rejection (n = 1000):\n",
    "     values = []\n",
    "     i = 0     #Número de iteraciones\n",
    "\n",
    "     #Genera n números aleatorios con la distribución triangular\n",
    "     while True:\n",
    "          #Genera un par de números aleatorios con distribución uniforme(0,1)\n",
    "          R = [rnd(), rnd()]\n",
    "          #Traslada la primera componente al soporte de la función de distribución\n",
    "          R[0] = 1 + 4*R[0]\n",
    "          i += 1 \n",
    "          if (R[1] <= triangle(R[0],1,3,5)/.5): #Si la segunda componente se encuentra en el hipografo de la función de distribución \n",
    "               values.append(R[0])\n",
    "               if (len(values) >= n): #El ciclo se rompe cuando se han generado n valores\n",
    "                    break\n",
    "          else:\n",
    "               continue #El proceso se repite en caso contrario\n",
    "\n",
    "     #Imprime el número de valores generados, el numero de iteraciones y la razón entre el numero de valores aceptados y el número de iteraciones\n",
    "     print(\"Número de valores generados:\", len(values))\n",
    "     print(\"Número de iteraciones:\", i)\n",
    "     print(\"Razón entre valores generados y aceptados:\", len(values)/i)\n",
    "     return values\n",
    "\n",
    "rand_values = rejection(50000)\n",
    "\n",
    "plot = plt.hist(rand_values, bins = 100)\n",
    "plt.title(\"Método de aceptación y rechazo\")\n",
    "plt.show()\n",
    "\n",
    "print(\"Valor esperado:\", np.mean(rand_values))\n",
    "print(\"Valor esperado real: 3\")\n",
    "print(\"Varianza:\", np.var(rand_values))\n",
    "print(\"Varianza real:\", 2/3)"
   ]
  }
 ],
 "metadata": {
  "kernelspec": {
   "display_name": "Python 3",
   "language": "python",
   "name": "python3"
  },
  "language_info": {
   "codemirror_mode": {
    "name": "ipython",
    "version": 3
   },
   "file_extension": ".py",
   "mimetype": "text/x-python",
   "name": "python",
   "nbconvert_exporter": "python",
   "pygments_lexer": "ipython3",
   "version": "3.12.9"
  }
 },
 "nbformat": 4,
 "nbformat_minor": 5
}
