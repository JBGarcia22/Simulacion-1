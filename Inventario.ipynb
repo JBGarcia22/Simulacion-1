{
 "cells": [
  {
   "cell_type": "markdown",
   "id": "91102731",
   "metadata": {},
   "source": [
    "# Simulacion de inventarios"
   ]
  },
  {
   "cell_type": "code",
   "execution_count": 203,
   "id": "72b2f2a7",
   "metadata": {},
   "outputs": [],
   "source": [
    "import numpy as np\n",
    "import matplotlib.pyplot as plt"
   ]
  },
  {
   "cell_type": "markdown",
   "id": "1876951a",
   "metadata": {},
   "source": [
    "### Distribucion de probabilidad de la demanda y generacion de variable aleatoria"
   ]
  },
  {
   "cell_type": "code",
   "execution_count": 204,
   "id": "4d983a28",
   "metadata": {},
   "outputs": [],
   "source": [
    "def generar_var_aleatoria(soporte, distribucion, n):\n",
    "    dist_acumulada = np.insert(np.cumsum(distribucion), 0, 0)\n",
    "\n",
    "    if n == 1:\n",
    "        variable_aleatoria = 1\n",
    "        u = np.random.uniform(0, 1)\n",
    "        for j in range(len(dist_acumulada)-1):\n",
    "            if dist_acumulada[j] <= u < dist_acumulada[j+1]:\n",
    "                variable_aleatoria = soporte[j]\n",
    "                break\n",
    "        return variable_aleatoria\n",
    "    else:\n",
    "        variables_aleatorias = np.zeros(n, dtype=int)\n",
    "        for i in range(n):\n",
    "            u = np.random.uniform(0,1)\n",
    "            for j in range(len(dist_acumulada)-1):\n",
    "                if dist_acumulada[j] <= u < dist_acumulada[j+1]:\n",
    "                    variables_aleatorias[i] = soporte[j]\n",
    "                    break\n",
    "    return variables_aleatorias\n",
    "    "
   ]
  },
  {
   "cell_type": "code",
   "execution_count": 205,
   "id": "43192159",
   "metadata": {},
   "outputs": [
    {
     "name": "stdout",
     "output_type": "stream",
     "text": [
      "[47 48 55 43 50 50 40 50 49 52]\n"
     ]
    }
   ],
   "source": [
    "soporte_demanda = [\n",
    "    35, 36, 37, 38, 39, 40, 41, 42, 43, 44,\n",
    "    45, 46, 47, 48, 49, 50, 51, 52, 53, 54,\n",
    "    55, 56, 57, 58, 59, 60\n",
    "]\n",
    "\n",
    "distribucion_demanda = [\n",
    "    0.010, 0.015, 0.020, 0.020, 0.022, 0.023, 0.025, 0.027, 0.028, 0.029,\n",
    "    0.035, 0.045, 0.060, 0.065, 0.070, 0.080, 0.075, 0.070, 0.065, 0.060,\n",
    "    0.050, 0.040, 0.030, 0.016, 0.015, 0.005\n",
    "]\n",
    "\n",
    "def generar_demanda(n = 1):\n",
    "    return generar_var_aleatoria(soporte_demanda, distribucion_demanda, n)\n",
    "\n",
    "print(generar_demanda(10))"
   ]
  },
  {
   "cell_type": "code",
   "execution_count": 206,
   "id": "7e29c3b9",
   "metadata": {},
   "outputs": [
    {
     "name": "stdout",
     "output_type": "stream",
     "text": [
      "[3 2 3 2 2 2 3 2 2 1]\n"
     ]
    }
   ],
   "source": [
    "soporte_tiempos = [1,2,3]\n",
    "\n",
    "distribucion_tiempos = [0.3, 0.4, 0.3]\n",
    "\n",
    "def generar_tiempo(n = 1):\n",
    "    return generar_var_aleatoria(soporte_tiempos, distribucion_tiempos, n)\n",
    "\n",
    "print(generar_tiempo(10))"
   ]
  },
  {
   "cell_type": "code",
   "execution_count": null,
   "id": "e74a2d07",
   "metadata": {},
   "outputs": [],
   "source": [
    "factores_estacionales = np.array([\n",
    "    1.20, 1.00, 0.90, 0.80, 0.80, 0.70,\n",
    "    0.80, 0.90, 1.00, 1.20, 1.30, 1.40\n",
    "])\n",
    "\n",
    "demanda_control = [\n",
    "    64, 52, 47, 31, \n",
    "    40, 25, 34, 38,\n",
    "    48, 58, 69, 70\n",
    "]\n",
    "\n",
    "tiempos_control = [\n",
    "    1,0,0,0,\n",
    "    0,3,0,0,\n",
    "    0,0,3,0\n",
    "]\n",
    "\n",
    "def simulacion(inventario_inicial = 150, orden = 200, reorden = 100):\n",
    "    faltante_total = 0\n",
    "    n_pedidos = 0\n",
    "    inventario_promedio = 0\n",
    "\n",
    "    inventario = inventario_inicial\n",
    "    pedido_activo = False\n",
    "    tiempo_espera = 0\n",
    "    faltante = 0\n",
    "    promedio = 0\n",
    "\n",
    "    for i in range(12):\n",
    "        if pedido_activo and tiempo_espera == 0:\n",
    "            inventario += orden\n",
    "            pedido_activo = False\n",
    "            tiempo_espera = 0\n",
    "        elif pedido_activo and tiempo_espera > 0:\n",
    "            tiempo_espera -= 1\n",
    "\n",
    "        if faltante > 0:\n",
    "            inventario -= faltante\n",
    "            faltante = 0\n",
    "\n",
    "        #print(f\"Mes {i+1}:\\nInventario inicial: {inventario:.2f}\")\n",
    "\n",
    "        demanda = generar_demanda(1) * factores_estacionales[i]\n",
    "        #demanda = demanda_control[i]\n",
    "        inventario = inventario - demanda\n",
    "\n",
    "        if not pedido_activo and inventario < reorden:\n",
    "            pedido_activo = True\n",
    "            tiempo_espera = generar_tiempo(1)\n",
    "            #tiempo_espera = tiempos_control[i]\n",
    "            n_pedidos += 1\n",
    "\n",
    "        if inventario < 0:\n",
    "            faltante = abs(inventario)\n",
    "            inventario = 0\n",
    "            promedio = (demanda - faltante)**2 / (2*demanda)\n",
    "        else:\n",
    "            promedio = (demanda + 2 * inventario) / 2\n",
    "\n",
    "        inventario_promedio += promedio\n",
    "        faltante_total += faltante\n",
    "\n",
    "        #print(f\"Demanda: {demanda:.2f}, Inventario final: {inventario:.2f}\")\n",
    "        #print(f\"Faltante: {faltante:.2f}, Inventario promedio: {promedio:.2f}\\n\")\n",
    "        #print(f\"Pedidos: {n_pedidos}, Tiempo de espera: {tiempo_espera}\") if inventario < reorden else print(\"No hay pedidos activos\")\n",
    "    \n",
    "    return n_pedidos, faltante_total, inventario_promedio\n",
    "\n",
    "    #print(f\"faltante total: {faltante_total}, inventario promedio: {inventario_promedio:.2f}\\n\")\n",
    "    #print(f\"\\nCosto de ordenar: {n_pedidos * 100}\\nCosto de faltantes: {faltante_total * 50}\\nCosto de inventario: {inventario_promedio * 1.67}\\n\")\n",
    "\n",
    "    #print(f\"Costo total: {n_pedidos * 100 + faltante_total * 50 + inventario_promedio * 1.67}\")"
   ]
  },
  {
   "cell_type": "code",
   "execution_count": 723,
   "id": "d0e5a8b7",
   "metadata": {},
   "outputs": [
    {
     "name": "stdout",
     "output_type": "stream",
     "text": [
      "Mes 1:\n",
      "Inventario inicial: 150.00\n",
      "Demanda: 43.20, Inventario final: 106.80\n",
      "Faltante: 0.00, Inventario promedio: 128.40\n",
      "\n",
      "No hay pedidos activos\n",
      "Mes 2:\n",
      "Inventario inicial: 106.80\n",
      "Demanda: 58.00, Inventario final: 48.80\n",
      "Faltante: 0.00, Inventario promedio: 77.80\n",
      "\n",
      "Pedidos: 1, Tiempo de espera: 2\n",
      "Mes 3:\n",
      "Inventario inicial: 48.80\n",
      "Demanda: 46.80, Inventario final: 2.00\n",
      "Faltante: 0.00, Inventario promedio: 25.40\n",
      "\n",
      "Pedidos: 1, Tiempo de espera: 1\n",
      "Mes 4:\n",
      "Inventario inicial: 2.00\n",
      "Demanda: 39.20, Inventario final: 0.00\n",
      "Faltante: 37.20, Inventario promedio: 0.05\n",
      "\n",
      "Pedidos: 1, Tiempo de espera: 0\n",
      "Mes 5:\n",
      "Inventario inicial: 162.80\n",
      "Demanda: 41.60, Inventario final: 121.20\n",
      "Faltante: 0.00, Inventario promedio: 142.00\n",
      "\n",
      "No hay pedidos activos\n",
      "Mes 6:\n",
      "Inventario inicial: 121.20\n",
      "Demanda: 37.10, Inventario final: 84.10\n",
      "Faltante: 0.00, Inventario promedio: 102.65\n",
      "\n",
      "Pedidos: 2, Tiempo de espera: 1\n",
      "Mes 7:\n",
      "Inventario inicial: 84.10\n",
      "Demanda: 43.20, Inventario final: 40.90\n",
      "Faltante: 0.00, Inventario promedio: 62.50\n",
      "\n",
      "Pedidos: 2, Tiempo de espera: 0\n",
      "Mes 8:\n",
      "Inventario inicial: 240.90\n",
      "Demanda: 47.70, Inventario final: 193.20\n",
      "Faltante: 0.00, Inventario promedio: 217.05\n",
      "\n",
      "No hay pedidos activos\n",
      "Mes 9:\n",
      "Inventario inicial: 193.20\n",
      "Demanda: 40.00, Inventario final: 153.20\n",
      "Faltante: 0.00, Inventario promedio: 173.20\n",
      "\n",
      "No hay pedidos activos\n",
      "Mes 10:\n",
      "Inventario inicial: 153.20\n",
      "Demanda: 60.00, Inventario final: 93.20\n",
      "Faltante: 0.00, Inventario promedio: 123.20\n",
      "\n",
      "Pedidos: 3, Tiempo de espera: 2\n",
      "Mes 11:\n",
      "Inventario inicial: 93.20\n",
      "Demanda: 58.50, Inventario final: 34.70\n",
      "Faltante: 0.00, Inventario promedio: 63.95\n",
      "\n",
      "Pedidos: 3, Tiempo de espera: 1\n",
      "Mes 12:\n",
      "Inventario inicial: 34.70\n",
      "Demanda: 77.00, Inventario final: 0.00\n",
      "Faltante: 42.30, Inventario promedio: 7.82\n",
      "\n",
      "Pedidos: 3, Tiempo de espera: 0\n",
      "faltante total: 79.49999999999994, inventario promedio: 1124.02\n",
      "\n",
      "\n",
      "Costo de ordenar: 300\n",
      "Costo de faltantes: 3974.9999999999973\n",
      "Costo de inventario: 1877.1130436920228\n",
      "\n",
      "Costo total: 6152.11304369202\n"
     ]
    }
   ],
   "source": [
    "simulacion()"
   ]
  },
  {
   "cell_type": "code",
   "execution_count": 330,
   "id": "c22eb0b5",
   "metadata": {},
   "outputs": [
    {
     "name": "stdout",
     "output_type": "stream",
     "text": [
      "[49 53 57 52 59 47 42 56 50 54 41 51]\n",
      "[58.8 53.  51.3 41.6 47.2 32.9 33.6 50.4 50.  64.8 53.3 71.4]\n",
      "12.000000000000002\n"
     ]
    }
   ],
   "source": [
    "demanda = generar_demanda(12)\n",
    "print(demanda)\n",
    "print(demanda * factores_estacionales)\n",
    "print(sum(factores_estacionales))"
   ]
  },
  {
   "cell_type": "code",
   "execution_count": 331,
   "id": "bab507f1",
   "metadata": {},
   "outputs": [
    {
     "data": {
      "text/plain": [
       "234"
      ]
     },
     "execution_count": 331,
     "metadata": {},
     "output_type": "execute_result"
    }
   ],
   "source": [
    "234*True"
   ]
  }
 ],
 "metadata": {
  "kernelspec": {
   "display_name": "Python 3",
   "language": "python",
   "name": "python3"
  },
  "language_info": {
   "codemirror_mode": {
    "name": "ipython",
    "version": 3
   },
   "file_extension": ".py",
   "mimetype": "text/x-python",
   "name": "python",
   "nbconvert_exporter": "python",
   "pygments_lexer": "ipython3",
   "version": "3.12.9"
  }
 },
 "nbformat": 4,
 "nbformat_minor": 5
}
