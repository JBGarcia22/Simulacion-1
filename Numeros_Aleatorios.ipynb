{
  "nbformat": 4,
  "nbformat_minor": 0,
  "metadata": {
    "colab": {
      "provenance": [],
      "authorship_tag": "ABX9TyNbR67jLXv1RA/rBfMENsFr",
      "include_colab_link": true
    },
    "kernelspec": {
      "name": "python3",
      "display_name": "Python 3"
    },
    "language_info": {
      "name": "python"
    }
  },
  "cells": [
    {
      "cell_type": "markdown",
      "metadata": {
        "id": "view-in-github",
        "colab_type": "text"
      },
      "source": [
        "<a href=\"https://colab.research.google.com/github/JBGarcia22/Simulacion-1/blob/main/Numeros_Aleatorios.ipynb\" target=\"_parent\"><img src=\"https://colab.research.google.com/assets/colab-badge.svg\" alt=\"Open In Colab\"/></a>"
      ]
    },
    {
      "cell_type": "markdown",
      "source": [
        "#Números Aleatorios\n"
      ],
      "metadata": {
        "id": "w2fF9XlyWFhN"
      }
    },
    {
      "cell_type": "markdown",
      "source": [
        "## Generador Congruencial"
      ],
      "metadata": {
        "id": "tlX0CEa6kGul"
      }
    },
    {
      "cell_type": "code",
      "source": [
        "def generador (a,c,m,x_0) :\n",
        "  return ((a*x_i + c)%m)\n",
        "\n",
        "x_i=3\n",
        "print (\"i \\t x_i \\t x_i/m \\n\")\n",
        "for i in range(50) :\n",
        "  print (i, \"\\t\", x_i, \"\\t\", round(x_i/22, 5))\n",
        "  x_i= generador(23,5,22,x_i)\n"
      ],
      "metadata": {
        "colab": {
          "base_uri": "https://localhost:8080/"
        },
        "id": "PruyT_HSaZgd",
        "outputId": "bb786895-5a38-44f7-d4c9-bc011af2fea8"
      },
      "execution_count": 34,
      "outputs": [
        {
          "output_type": "stream",
          "name": "stdout",
          "text": [
            "i \t x_i \t x_i/m \n",
            "\n",
            "0 \t 3 \t 0.13636\n",
            "1 \t 8 \t 0.36364\n",
            "2 \t 13 \t 0.59091\n",
            "3 \t 18 \t 0.81818\n",
            "4 \t 1 \t 0.04545\n",
            "5 \t 6 \t 0.27273\n",
            "6 \t 11 \t 0.5\n",
            "7 \t 16 \t 0.72727\n",
            "8 \t 21 \t 0.95455\n",
            "9 \t 4 \t 0.18182\n",
            "10 \t 9 \t 0.40909\n",
            "11 \t 14 \t 0.63636\n",
            "12 \t 19 \t 0.86364\n",
            "13 \t 2 \t 0.09091\n",
            "14 \t 7 \t 0.31818\n",
            "15 \t 12 \t 0.54545\n",
            "16 \t 17 \t 0.77273\n",
            "17 \t 0 \t 0.0\n",
            "18 \t 5 \t 0.22727\n",
            "19 \t 10 \t 0.45455\n",
            "20 \t 15 \t 0.68182\n",
            "21 \t 20 \t 0.90909\n",
            "22 \t 3 \t 0.13636\n",
            "23 \t 8 \t 0.36364\n",
            "24 \t 13 \t 0.59091\n",
            "25 \t 18 \t 0.81818\n",
            "26 \t 1 \t 0.04545\n",
            "27 \t 6 \t 0.27273\n",
            "28 \t 11 \t 0.5\n",
            "29 \t 16 \t 0.72727\n",
            "30 \t 21 \t 0.95455\n",
            "31 \t 4 \t 0.18182\n",
            "32 \t 9 \t 0.40909\n",
            "33 \t 14 \t 0.63636\n",
            "34 \t 19 \t 0.86364\n",
            "35 \t 2 \t 0.09091\n",
            "36 \t 7 \t 0.31818\n",
            "37 \t 12 \t 0.54545\n",
            "38 \t 17 \t 0.77273\n",
            "39 \t 0 \t 0.0\n",
            "40 \t 5 \t 0.22727\n",
            "41 \t 10 \t 0.45455\n",
            "42 \t 15 \t 0.68182\n",
            "43 \t 20 \t 0.90909\n",
            "44 \t 3 \t 0.13636\n",
            "45 \t 8 \t 0.36364\n",
            "46 \t 13 \t 0.59091\n",
            "47 \t 18 \t 0.81818\n",
            "48 \t 1 \t 0.04545\n",
            "49 \t 6 \t 0.27273\n"
          ]
        }
      ]
    }
  ]
}