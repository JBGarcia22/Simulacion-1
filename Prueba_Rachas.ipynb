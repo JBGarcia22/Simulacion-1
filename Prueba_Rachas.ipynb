{
 "cells": [
  {
   "cell_type": "markdown",
   "metadata": {},
   "source": [
    "# Numeros Aleatorios"
   ]
  },
  {
   "cell_type": "markdown",
   "metadata": {},
   "source": [
    "## Prueba de aleatoriedad\n",
    "### Prueba de Rachas"
   ]
  },
  {
   "cell_type": "code",
   "execution_count": null,
   "metadata": {},
   "outputs": [
    {
     "name": "stdout",
     "output_type": "stream",
     "text": [
      "Numero de rachas:  16\n",
      "Mu_0:  16.333333333333332\n",
      "Sigma_0:  4.122222222222222\n",
      "Z_0:  -0.16417727582577904\n",
      "Con un nivel de significancia de  0.05  no se rechaza la hipotesis nula\n"
     ]
    }
   ],
   "source": [
    "import pandas as pd\n",
    "import numpy as np\n",
    "import scipy.stats as stats\n",
    "\n",
    "v = [0.048,0.926,0.368,0.787,0.298,0.591,0.007,0.437\n",
    "     ,0.594,0.199,0.478,0.551,0.178,0.086,0.157,0.166\n",
    "     ,0.362,0.411,0.951,0.401,0.932,0.533,0.545,0.772,0.631]\n",
    "\n",
    "rachas = []\n",
    "\n",
    "for i in range(len(v)-1): \n",
    "  if v[i+1] <= v[i] :\n",
    "    rachas.append(0)\n",
    "  else :\n",
    "    rachas.append(1)\n",
    "\n",
    "c_0 = 1\n",
    "for j in range(len(rachas)-1):\n",
    "  if rachas[j] != rachas[j+1]:\n",
    "    c_0 += 1\n",
    "  else:\n",
    "    continue\n",
    "\n",
    "print(\"Numero de rachas: \", c_0)\n",
    "\n",
    "#Calculo de los estadisticos\n",
    "\n",
    "mu_0 = (2*len(v)-1)/3\n",
    "\n",
    "sigma_0 = (16*len(v)-29)/90\n",
    "\n",
    "Z_0 = (c_0 - mu_0)/(np.sqrt(sigma_0))\n",
    "\n",
    "print(\"Mu_0: \", mu_0)\n",
    "print(\"Sigma_0: \", sigma_0)\n",
    "\n",
    "print(\"Z_0: \", Z_0)\n",
    "\n",
    "#Prueba de hipotesis\n",
    "\n",
    "alpha = 0.05 #Nivel de significancia\n",
    "\n",
    "if Z_0 > stats.norm.ppf(alpha/2) and Z_0 < stats.norm.ppf(1-alpha/2):\n",
    "  print(\"Con un nivel de significancia de \", alpha, \" no se rechaza la hipotesis nula\")\n",
    "else: \n",
    "  print(\"Con un nivel de significancia de \", alpha, \"se rechaza la hipotesis nula\")\n"
   ]
  }
 ],
 "metadata": {
  "kernelspec": {
   "display_name": "Python 3",
   "language": "python",
   "name": "python3"
  },
  "language_info": {
   "codemirror_mode": {
    "name": "ipython",
    "version": 3
   },
   "file_extension": ".py",
   "mimetype": "text/x-python",
   "name": "python",
   "nbconvert_exporter": "python",
   "pygments_lexer": "ipython3",
   "version": "3.12.9"
  }
 },
 "nbformat": 4,
 "nbformat_minor": 2
}
